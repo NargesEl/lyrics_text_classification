{
 "cells": [
  {
   "cell_type": "code",
   "execution_count": 1,
   "metadata": {},
   "outputs": [],
   "source": [
    "from bs4 import BeautifulSoup\n",
    "import pandas as pd\n",
    "import os"
   ]
  },
  {
   "cell_type": "markdown",
   "metadata": {},
   "source": [
    "#### Extract the lyrics as a string using BeautifulSoup"
   ]
  },
  {
   "cell_type": "code",
   "execution_count": 2,
   "metadata": {},
   "outputs": [],
   "source": [
    "soup = BeautifulSoup(open(\"Innuendo.txt\"))"
   ]
  },
  {
   "cell_type": "code",
   "execution_count": 31,
   "metadata": {},
   "outputs": [
    {
     "data": {
      "text/plain": [
       "\"Ride the wild wind (Push the envelope, don't sit on the fence) hey hey hey hey Ride the wild wind (Live life on the razors edge) hey hey hey Gonna ride the whirlwind It ain't dangerous - enough for me  Get your head down baby - yeah - we're gonna ride tonight Your angel eyes are shining bright I wanna take your hand - lead you from this place Gonna leave it all behind (Check out) Check out of this rat race Ride the wild wind (hey hey) hey hey hey hey Ride the wild wind (hey hey) hey hey hey Gonna ride the whirlwind It ain't dangerous - enough for me  Tie your hair back baby - we're gonna ride tonight - yeah We got freaks to the left - we got jerks to the right Sometimes I get so low - I just have to ride Let me take your hand Let me be your guide Ooh ride the wild wind (Don't sit on the fence) (hey hey) hey hey hey hey Ooh ride the wild wind (And live life on the razors edge) hey hey hey Gonna ride the whirlwind It ain't dangerous - enough for me  Yeah ride the wild wind (hey hey) hey hey hey Ooh ride the wild wind hey hey hey hey hey hey Ha ha ha haa Gonna ride the - ride the whirlwind It ain't dangerous - enough for me Ride the wild wind Ride the wild wind Hey hey hey The wild wind Hey hey hey The wild wind Hey hey hey Hey hey hey \""
      ]
     },
     "execution_count": 31,
     "metadata": {},
     "output_type": "execute_result"
    }
   ],
   "source": [
    "cm = soup.find(attrs={'class':'lyric-body'}).text.replace('\\n', ' ' )\n",
    "cm"
   ]
  },
  {
   "cell_type": "markdown",
   "metadata": {},
   "source": [
    "#### Write a loop that extracts the lyrics of all songs"
   ]
  },
  {
   "cell_type": "code",
   "execution_count": 32,
   "metadata": {},
   "outputs": [
    {
     "data": {
      "text/plain": [
       "['Keep+Passing+the+Open+Windows.txt',\n",
       " 'Voodoo.txt',\n",
       " 'Don%27t+Stop+Me+Now.txt',\n",
       " 'Machines+%28Or+%27Back+to+Humans%27%29.txt',\n",
       " 'She+Makes+Me+%5BStormtrooper+In+Stilettos%5D.txt']"
      ]
     },
     "execution_count": 32,
     "metadata": {},
     "output_type": "execute_result"
    }
   ],
   "source": [
    "path = \"/Users/Narges/desktop/spiced/Week_4/scraped lyrics\"\n",
    "titles = os.listdir(path)\n",
    "titles[0: 5]"
   ]
  },
  {
   "cell_type": "code",
   "execution_count": 33,
   "metadata": {},
   "outputs": [],
   "source": [
    "data = []\n",
    "\n",
    "for lyric in titles[0: 10]:\n",
    "    soup = BeautifulSoup(open('../scraped lyrics/' + lyric))\n",
    "    cl = soup.find(attrs={'class':'lyric-body'}).text\n",
    "    ct = soup.find(attrs = {'class':'lyric-title'}).text\n",
    "    ca = artist = soup.find(attrs={'class': 'lyric-artist'}).text.replace('\\nBuy This Song\\n\\n', ' ' )\n",
    "\n",
    "    data.append((cl, ct, ca))"
   ]
  },
  {
   "cell_type": "code",
   "execution_count": 34,
   "metadata": {},
   "outputs": [
    {
     "data": {
      "text/html": [
       "<div>\n",
       "<style scoped>\n",
       "    .dataframe tbody tr th:only-of-type {\n",
       "        vertical-align: middle;\n",
       "    }\n",
       "\n",
       "    .dataframe tbody tr th {\n",
       "        vertical-align: top;\n",
       "    }\n",
       "\n",
       "    .dataframe thead th {\n",
       "        text-align: right;\n",
       "    }\n",
       "</style>\n",
       "<table border=\"1\" class=\"dataframe\">\n",
       "  <thead>\n",
       "    <tr style=\"text-align: right;\">\n",
       "      <th></th>\n",
       "      <th>Lyric</th>\n",
       "      <th>title</th>\n",
       "      <th>Artist</th>\n",
       "    </tr>\n",
       "  </thead>\n",
       "  <tbody>\n",
       "    <tr>\n",
       "      <th>0</th>\n",
       "      <td>This is the only life for me - yeah\\nSurround ...</td>\n",
       "      <td>Keep Passing the Open Windows</td>\n",
       "      <td>Queen</td>\n",
       "    </tr>\n",
       "    <tr>\n",
       "      <th>1</th>\n",
       "      <td>When the moon rises, the dogs will howl\\nLook ...</td>\n",
       "      <td>Voodoo</td>\n",
       "      <td>Queen, Paul Rodgers</td>\n",
       "    </tr>\n",
       "    <tr>\n",
       "      <th>2</th>\n",
       "      <td>Tonight, I'm gonna have myself a real good tim...</td>\n",
       "      <td>Don't Stop Me Now</td>\n",
       "      <td>Queen</td>\n",
       "    </tr>\n",
       "    <tr>\n",
       "      <th>3</th>\n",
       "      <td>Machines\\n\\nIt's a machines world\\nDon't tell ...</td>\n",
       "      <td>Machines (Back to Humans)</td>\n",
       "      <td>Queen</td>\n",
       "    </tr>\n",
       "    <tr>\n",
       "      <th>4</th>\n",
       "      <td>I love...she makes me\\nShe is my heart\\nShe is...</td>\n",
       "      <td>She Makes Me (Stormtrooper in Stilettoes)</td>\n",
       "      <td>Queen</td>\n",
       "    </tr>\n",
       "    <tr>\n",
       "      <th>5</th>\n",
       "      <td>Tell me something that'll ease my pain\\nI am l...</td>\n",
       "      <td>Through the Night</td>\n",
       "      <td>Queen, Paul Rodgers</td>\n",
       "    </tr>\n",
       "    <tr>\n",
       "      <th>6</th>\n",
       "      <td>Hey it's a sell out - hey\\nLet me welcome you ...</td>\n",
       "      <td>Let Me Entertain You</td>\n",
       "      <td>Queen</td>\n",
       "    </tr>\n",
       "    <tr>\n",
       "      <th>7</th>\n",
       "      <td>My new purple shoes\\nBeen amazin' the people n...</td>\n",
       "      <td>Tenement Funster</td>\n",
       "      <td>Queen</td>\n",
       "    </tr>\n",
       "    <tr>\n",
       "      <th>8</th>\n",
       "      <td>Who said that my party was all over\\nHuh huh I...</td>\n",
       "      <td>Khashoggi's Ship</td>\n",
       "      <td>Queen</td>\n",
       "    </tr>\n",
       "    <tr>\n",
       "      <th>9</th>\n",
       "      <td>Ride the wild wind\\n(Push the envelope, don't ...</td>\n",
       "      <td>Ride the Wild Wind</td>\n",
       "      <td>Queen</td>\n",
       "    </tr>\n",
       "  </tbody>\n",
       "</table>\n",
       "</div>"
      ],
      "text/plain": [
       "                                               Lyric  \\\n",
       "0  This is the only life for me - yeah\\nSurround ...   \n",
       "1  When the moon rises, the dogs will howl\\nLook ...   \n",
       "2  Tonight, I'm gonna have myself a real good tim...   \n",
       "3  Machines\\n\\nIt's a machines world\\nDon't tell ...   \n",
       "4  I love...she makes me\\nShe is my heart\\nShe is...   \n",
       "5  Tell me something that'll ease my pain\\nI am l...   \n",
       "6  Hey it's a sell out - hey\\nLet me welcome you ...   \n",
       "7  My new purple shoes\\nBeen amazin' the people n...   \n",
       "8  Who said that my party was all over\\nHuh huh I...   \n",
       "9  Ride the wild wind\\n(Push the envelope, don't ...   \n",
       "\n",
       "                                       title                 Artist  \n",
       "0              Keep Passing the Open Windows                Queen    \n",
       "1                                     Voodoo  Queen, Paul Rodgers    \n",
       "2                          Don't Stop Me Now                Queen    \n",
       "3                  Machines (Back to Humans)                Queen    \n",
       "4  She Makes Me (Stormtrooper in Stilettoes)                Queen    \n",
       "5                          Through the Night  Queen, Paul Rodgers    \n",
       "6                       Let Me Entertain You                Queen    \n",
       "7                           Tenement Funster                Queen    \n",
       "8                           Khashoggi's Ship                Queen    \n",
       "9                         Ride the Wild Wind                Queen    "
      ]
     },
     "execution_count": 34,
     "metadata": {},
     "output_type": "execute_result"
    }
   ],
   "source": [
    "pd.DataFrame(data, columns=['Lyric', 'title', 'Artist'])"
   ]
  }
 ],
 "metadata": {
  "kernelspec": {
   "display_name": "Python 3",
   "language": "python",
   "name": "python3"
  },
  "language_info": {
   "codemirror_mode": {
    "name": "ipython",
    "version": 3
   },
   "file_extension": ".py",
   "mimetype": "text/x-python",
   "name": "python",
   "nbconvert_exporter": "python",
   "pygments_lexer": "ipython3",
   "version": "3.8.5"
  }
 },
 "nbformat": 4,
 "nbformat_minor": 4
}
